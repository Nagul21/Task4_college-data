{
  "cells": [
    {
      "cell_type": "markdown",
      "metadata": {
        "id": "view-in-github",
        "colab_type": "text"
      },
      "source": [
        "<a href=\"https://colab.research.google.com/github/Nagul21/Task4_college-data/blob/main/Assessment2B.ipynb\" target=\"_parent\"><img src=\"https://colab.research.google.com/assets/colab-badge.svg\" alt=\"Open In Colab\"/></a>"
      ]
    },
    {
      "cell_type": "markdown",
      "metadata": {
        "id": "fWrnzfom5tsn"
      },
      "source": [
        "###### Assessment"
      ]
    },
    {
      "cell_type": "markdown",
      "metadata": {
        "id": "zv5twA005tth"
      },
      "source": [
        "###### I am going to provide two .csv files , you are supposed to work on them and have to provide solutions to the following problems"
      ]
    },
    {
      "cell_type": "markdown",
      "metadata": {
        "id": "SGsZmZgl5ttl"
      },
      "source": [
        "###### import necessary libraries"
      ]
    },
    {
      "cell_type": "code",
      "execution_count": 1,
      "metadata": {
        "id": "FdKAi4og5ttn"
      },
      "outputs": [],
      "source": [
        "import pandas as pd\n",
        "import matplotlib.pyplot as plt"
      ]
    },
    {
      "cell_type": "markdown",
      "metadata": {
        "id": "BSjelSq85ttq"
      },
      "source": [
        "###### merge those two csv files (after getting as dataframes, get them as a single dataframe)"
      ]
    },
    {
      "cell_type": "code",
      "execution_count": 3,
      "metadata": {
        "id": "ieqfFzcs5ttr",
        "outputId": "088cb3b1-76a5-49af-8ed6-6101a643213d",
        "colab": {
          "base_uri": "https://localhost:8080/"
        }
      },
      "outputs": [
        {
          "output_type": "stream",
          "name": "stdout",
          "text": [
            "                           Name  python   mysql  Previous Geekions  CodeKata Score                                 Department  Rising  python_en  computational_thinking\n",
            "0                     A.Dharani    82.0   20.00              24500           24500           Computer Science and Engineering       0        NaN                     NaN\n",
            "1                   V.JEEVITHA     82.0   20.00              21740           21740           Computer Science and Engineering       0        NaN                     NaN\n",
            "2                   HEMAVATHI.R   100.0  100.00              19680           19680           Computer Science and Engineering       0        NaN                     NaN\n",
            "3                   Mugunthan S   100.0   47.00              10610           10610           Computer Science and Engineering       0        NaN                     NaN\n",
            "4                   Sathammai.S   100.0    8.00               8980            8980           Computer Science and Engineering       0        NaN                     NaN\n",
            "5                  NIVEESHWAR S   100.0    0.00               8200            8200           Computer Science and Engineering       0        NaN                     NaN\n",
            "6                 KALAIARASAN K    85.0   47.00               7750            7880  Electronics and Communication Engineering     130        NaN                     NaN\n",
            "7          MOHAMED ZUBAIR AHMED    82.0    4.00               7020            7020           Computer Science and Engineering       0        NaN                     NaN\n",
            "8                    J.SUGANTHI    27.0   50.00               5860            5860  Electronics and Communication Engineering       0        NaN                     NaN\n",
            "9                  thamizhpaana    29.0    0.00               5500            5500           Computer Science and Engineering       0        NaN                     NaN\n",
            "10              Iyappan Samiraj    50.0   24.00               5400            5400  Electronics and Communication Engineering       0        NaN                     NaN\n",
            "11                 Ponniyamma.R   100.0   11.25               5380            5380           Computer Science and Engineering       0        NaN                     NaN\n",
            "12                    SABAPATHI   100.0    0.00               5280            5280           Computer Science and Engineering       0        NaN                     NaN\n",
            "13                     RAGHAVAN   100.0    0.00               5120            5120           Computer Science and Engineering       0        NaN                     NaN\n",
            "14              Melvin Dukles.R    56.0   20.00               4800            4800  Electronics and Communication Engineering       0        NaN                     NaN\n",
            "15                     Pavithra   100.0  100.00               4600            4600           Computer Science and Engineering       0        NaN                     NaN\n",
            "16                  PRIYANKA .S    85.0    4.00               4510            4510           Computer Science and Engineering       0        NaN                     NaN\n",
            "17                  v.vithyasri   100.0   12.00               4370            4370  Electronics and Communication Engineering       0        NaN                     NaN\n",
            "18           Abirami Anbazhagan   100.0    0.00               4320            4320  Electronics and Communication Engineering       0        NaN                     NaN\n",
            "19                 S.srinivasan   100.0   12.00               4090            4090           Computer Science and Engineering       0        NaN                     NaN\n",
            "20                     s.janani   100.0    0.00               3915            3915           Computer Science and Engineering       0        NaN                     NaN\n",
            "21                 kamalishwari    32.0   20.00               3665            3665  Electronics and Communication Engineering       0        NaN                     NaN\n",
            "22                      Yuvasri   100.0  100.00               3460            3460           Computer Science and Engineering       0        NaN                     NaN\n",
            "23                       balaji    82.0    0.00               3280            3280           Computer Science and Engineering       0        NaN                     NaN\n",
            "24                      MEERA.M   100.0  100.00               3200            3200           Computer Science and Engineering       0        NaN                     NaN\n",
            "25                    Tpavithra   100.0   24.00               3200            3200  Electronics and Communication Engineering       0        NaN                     NaN\n",
            "26                sri dharshini   100.0  100.00               3110            3110           Computer Science and Engineering       0        NaN                     NaN\n",
            "27                     shankari    87.5   20.00               3000            3000  Electronics and Communication Engineering       0        NaN                     NaN\n",
            "28                pooja priya.B   100.0  100.00               2570            2570           Computer Science and Engineering       0        NaN                     NaN\n",
            "29                      chithra   100.0    0.00               2410            2410           Computer Science and Engineering       0        NaN                     NaN\n",
            "30                   manikandan   100.0    0.00               2360            2360           Computer Science and Engineering       0        NaN                     NaN\n",
            "31               Kaliaperumal G   100.0    0.00               2260            2260           Computer Science and Engineering       0        NaN                     NaN\n",
            "32                   SarumathiR    16.0   35.00               2240            2240  Electronics and Communication Engineering       0        NaN                     NaN\n",
            "33                    SOWMIYA.V    85.0    0.00               2160            2160           Computer Science and Engineering       0        NaN                     NaN\n",
            "34                   tamilarasi   100.0  100.00               1910            1910           Computer Science and Engineering       0        NaN                     NaN\n",
            "35                     Barath D    74.0    4.00               1910            1910  Electronics and Communication Engineering       0        NaN                     NaN\n",
            "36                   selvakumar   100.0    0.00               1900            1900           Computer Science and Engineering       0        NaN                     NaN\n",
            "37                    nivedha.s   100.0   77.00               1880            1880           Computer Science and Engineering       0        NaN                     NaN\n",
            "38                      Stephen   100.0    0.00               1880            1880           Computer Science and Engineering       0        NaN                     NaN\n",
            "39                      vignesh    85.0    0.00               1740            1740  Electronics and Communication Engineering       0        NaN                     NaN\n",
            "40                   HSharukhan   100.0    0.00               1680            1680           Computer Science and Engineering       0        NaN                     NaN\n",
            "41                  vijayakumar   100.0    0.00               1580            1580           Computer Science and Engineering       0        NaN                     NaN\n",
            "42                    ABIRAMI.S    82.0    0.00               1580            1580  Electronics and Communication Engineering       0        NaN                     NaN\n",
            "43                   v.gowsalya    53.0   50.00               1440            1440  Electronics and Communication Engineering       0        NaN                     NaN\n",
            "44                      ponni.p    93.0  100.00               1350            1350           Computer Science and Engineering       0        NaN                     NaN\n",
            "45                   PRAVEENA K   100.0  100.00               1320            1320           Computer Science and Engineering       0        NaN                     NaN\n",
            "46   siva sai perumal polisetti   100.0   12.00               1240            1240  Electronics and Communication Engineering       0        NaN                     NaN\n",
            "47                  MadhumathiB    16.0   35.00               1130            1130  Electronics and Communication Engineering       0        NaN                     NaN\n",
            "48                    b.akshaya    82.0    0.00               1100            1100           Computer Science and Engineering       0        NaN                     NaN\n",
            "49                     bavithra     0.0  100.00               1020            1020  Electronics and Communication Engineering       0        NaN                     NaN\n",
            "50                    Deivani.S     0.0   86.25                980             980  Electronics and Communication Engineering       0        NaN                     NaN\n",
            "51                    Nivetha.S     0.0   50.00                950             950  Electronics and Communication Engineering       0        NaN                     NaN\n",
            "52                  GUNAMATHI.S     0.0   77.00                850             850  Electronics and Communication Engineering       0        NaN                     NaN\n",
            "53                    RANJITH.R   100.0    0.00                800             800  Electronics and Communication Engineering       0        NaN                     NaN\n",
            "54                     u.abarna     3.0   39.00                770             770  Electronics and Communication Engineering       0        NaN                     NaN\n",
            "55                 kaviyarasi.k    16.0   28.75                760             760  Electronics and Communication Engineering       0        NaN                     NaN\n",
            "56                      pravina   100.0  100.00                720             720           Computer Science and Engineering       0        NaN                     NaN\n",
            "57                      M.PRIYA    43.0   24.00                690             690  Electronics and Communication Engineering       0        NaN                     NaN\n",
            "58                 M.Nisha@mary    11.0   20.00                580             580  Electronics and Communication Engineering       0        NaN                     NaN\n",
            "59                     Thivviya    82.0    8.00                490             490           Computer Science and Engineering       0        NaN                     NaN\n",
            "60                 muvendiran.m   100.0    7.50                410             410  Electronics and Communication Engineering       0        NaN                     NaN\n",
            "61                      Aravind   100.0    0.00                380             380           Computer Science and Engineering       0        NaN                     NaN\n",
            "62                      Haasini   100.0    0.00                300             300           Computer Science and Engineering       0        NaN                     NaN\n",
            "63                     E.Nalini     3.0    0.00                270             270  Electronics and Communication Engineering       0        NaN                     NaN\n",
            "64                   k.parvathi   100.0  100.00                260             260     Electronics and Electrical Engineering       0        NaN                     NaN\n",
            "65                   jayapratha    82.0    0.00                200             200           Computer Science and Engineering       0        NaN                     NaN\n",
            "66               Evanasundari.K    61.0    0.00                180             180           Computer Science and Engineering       0        NaN                     NaN\n",
            "67                     gousalya    56.0   27.00                170             170  Electronics and Communication Engineering       0        NaN                     NaN\n",
            "68                  sivaranjini     0.0    3.75                160             160  Electronics and Communication Engineering       0        NaN                     NaN\n",
            "69                   karthika.G   100.0    0.00                120             120           Computer Science and Engineering       0        NaN                     NaN\n",
            "70                    vignesh B    82.0   20.00                120             120  Electronics and Communication Engineering       0        NaN                     NaN\n",
            "71                  m.keerthana    97.5    0.00                120             120     Electronics and Electrical Engineering       0        NaN                     NaN\n",
            "72                   Subhashini   100.0    4.00                120             120     Electronics and Electrical Engineering       0        NaN                     NaN\n",
            "73               rajesh kumar.r    30.0    0.00                100             100  Electronics and Communication Engineering       0        NaN                     NaN\n",
            "74              J.Bhuvaneshwari   100.0   20.00                100             100     Electronics and Electrical Engineering       0        NaN                     NaN\n",
            "75                     santhosh    82.0   12.00                 60              60     Electronics and Electrical Engineering       0        NaN                     NaN\n",
            "76                         Arun    95.0    4.00                 40              40           Computer Science and Engineering       0        NaN                     NaN\n",
            "77                   J.JAYANTHI   100.0  100.00                 40              40     Electronics and Electrical Engineering       0        NaN                     NaN\n",
            "78                 vikneshwaran   100.0    4.00                 40              40     Electronics and Electrical Engineering       0        NaN                     NaN\n",
            "79                 KarthikeyanS    45.0    0.00                  0               0     Electronics and Electrical Engineering       0        NaN                     NaN\n",
            "80                     BARATH.P    29.0    0.00                  0               0     Electronics and Electrical Engineering       0        NaN                     NaN\n",
            "81                N.Ajith kumar    82.0    0.00                  0               0     Electronics and Electrical Engineering       0        NaN                     NaN\n",
            "82                 mohamed nabi     0.0    0.00                  0               0     Electronics and Electrical Engineering       0        NaN                     NaN\n",
            "83               yaser ahamed.A     0.0   27.00                  0               0     Electronics and Electrical Engineering       0        NaN                     NaN\n",
            "84                ASHOK KUMAR K   100.0   31.00              19400           19400     Electronics and Electrical Engineering       0        0.0                     9.0\n",
            "85                      Chandru     0.0    0.00              14150           14490           Computer Science and Engineering     340       20.0                     0.0\n",
            "86            Ganesh Ramkumar R    -1.0   24.00               8790           10790           Computer Science and Engineering    2000       55.0                     6.0\n",
            "87              Bodipudi Harini    -1.0   35.00              10040           10040  Electronics and Communication Engineering       0        0.0                    -1.0\n",
            "88                    VIINU V P    -1.0   24.00               9150            9150     Electronics and Electrical Engineering       0      100.0                    -1.0\n",
            "89                   Poojitha Y     0.0   35.00               7210            8970           Computer Science and Engineering    1760       78.0                     0.0\n",
            "90       Gowtham Chandrasekaran    -1.0    0.00               7250            8950           Computer Science and Engineering    1700        0.0                     3.0\n",
            "91                    Gowtham R    -1.0    4.00               8650            8650  Electronics and Communication Engineering       0       60.0                     6.0\n",
            "92                     shifak N    58.0    0.00               5180            8320     Electronics and Electrical Engineering    3140        0.0                     0.0\n",
            "93                      Balaji     -1.0   20.00               6170            8160     Electronics and Electrical Engineering    1990      100.0                     0.0\n",
            "94                     Rushitha    -1.0   62.00               7470            8090           Computer Science and Engineering     620       15.0                     9.0\n",
            "95         Balaraman Muthupandi    -1.0    0.00               7670            8050           Computer Science and Engineering     380        9.0                     0.0\n",
            "96                     JPradhap   100.0    0.00               7340            8030     Electronics and Electrical Engineering     690        0.0                     0.0\n",
            "97                SRIRAMKUMAR B    -1.0    0.00               6400            7940           Computer Science and Engineering    1540        0.0                     0.0\n",
            "98                    Praneetha    -1.0  100.00               7170            7730  Electronics and Communication Engineering     560       23.0                    -1.0\n",
            "99                  Rahul Raj K    -1.0    0.00               6280            7640           Computer Science and Engineering    1360        0.0                     0.0\n",
            "100                     Guhan S    -1.0   35.00               7310            7630  Electronics and Communication Engineering     320       72.0                    39.0\n",
            "101                Suryarajan S    -1.0   31.00               6710            7550           Computer Science and Engineering     840       63.0                     0.0\n",
            "102              Narasimhan Y L    -1.0    0.00               4800            6800           Computer Science and Engineering    2000       -1.0                     0.0\n",
            "103                Leelakrishna    -1.0    4.00               5300            6640           Computer Science and Engineering    1340        6.0                     0.0\n",
            "104              PremsagarReddy    -1.0    0.00               5290            6290           Computer Science and Engineering    1000       20.0                     0.0\n",
            "105                   pradeeban    16.0   24.00               6060            6090           Computer Science and Engineering      30       20.0                     0.0\n",
            "106                 santhoshini    -1.0    0.00               3910            5740           Computer Science and Engineering    1830       43.0                     0.0\n",
            "107                  MUKESH S M    -1.0    0.00               5200            5200           Computer Science and Engineering       0       46.0                     0.0\n",
            "108               P.GOVARDHANAN    -1.0    0.00               5050            5050  Electronics and Communication Engineering       0       40.0                    -1.0\n",
            "109                SHAIK DANISH    -1.0    0.00               4050            4820           Computer Science and Engineering     770       43.0                     0.0\n",
            "110                   sridhar.s    -1.0    0.00               3860            4440           Computer Science and Engineering     580       52.0                     0.0\n",
            "111           Vimalesh Fernando    -1.0    0.00               4170            4170           Computer Science and Engineering       0        0.0                     0.0\n",
            "112               M.Karthikeyan    -1.0    4.00               4020            4020           Computer Science and Engineering       0        0.0                     6.0\n",
            "113                   Abishak s    -1.0   35.00               3220            3220  Electronics and Communication Engineering       0       55.0                     6.0\n",
            "114               praveen raj j    24.0    0.00               2380            2380           Computer Science and Engineering       0       -1.0                     0.0\n",
            "115                  AMARNATH D    -1.0   12.00               1890            1890  Electronics and Communication Engineering       0       52.0                    -1.0\n",
            "116                        bala    32.0    0.00               1720            1720  Electronics and Communication Engineering       0       49.0                    -1.0\n",
            "117                        XY Z    -1.0   -1.00                  0               0           Computer Science and Engineering       0       20.0                    -1.0\n",
            "118                   Hariharan    -1.0   -1.00                  0               0           Computer Science and Engineering       0       -1.0                     0.0\n"
          ]
        }
      ],
      "source": [
        "df = pd.read_csv(\"college_1.csv\")\n",
        "df1 = pd.read_csv(\"college_2.csv\")\n",
        "df = pd.concat([df,df1],ignore_index = True)\n",
        "df.to_csv(\"college_data.csv\")\n",
        "print(df.to_string())"
      ]
    },
    {
      "cell_type": "markdown",
      "metadata": {
        "id": "wUW0zHyT5tts"
      },
      "source": [
        "###### Take each csv file , split that csv file into multiple categories (example csv files are added in the repo) \n"
      ]
    },
    {
      "cell_type": "markdown",
      "metadata": {
        "id": "RAt89t-75ttu"
      },
      "source": [
        "###### consider if the codekata score exceeds 15000 points(present week) then make a csv on those observations as Exceeded expectations.csv\n"
      ]
    },
    {
      "cell_type": "markdown",
      "metadata": {
        "id": "JGgmf2EH5ttw"
      },
      "source": [
        "###### if  10000<codekata score<15000   (Reached_expectations.csv)\n",
        "\n"
      ]
    },
    {
      "cell_type": "markdown",
      "metadata": {
        "id": "1QInnxsy5tty"
      },
      "source": [
        "###### if  7000<codekata score<10000   (Needs_Improvement.csv)\n"
      ]
    },
    {
      "cell_type": "markdown",
      "metadata": {
        "id": "yEUx63of5tt0"
      },
      "source": [
        "###### if  codekate score < 7000        (Unsatisfactory.csv)"
      ]
    },
    {
      "cell_type": "code",
      "execution_count": 4,
      "metadata": {
        "id": "9DZkovHr5tt1",
        "outputId": "dd69d668-0ed3-44f9-b62d-84ed2f8583f3",
        "colab": {
          "base_uri": "https://localhost:8080/"
        }
      },
      "outputs": [
        {
          "output_type": "stream",
          "name": "stdout",
          "text": [
            "             Name  python  mysql  Previous Geekions  CodeKata Score                              Department  Rising  python_en  computational_thinking\n",
            "0       A.Dharani    82.0   20.0              24500           24500        Computer Science and Engineering       0        NaN                     NaN\n",
            "1     V.JEEVITHA     82.0   20.0              21740           21740        Computer Science and Engineering       0        NaN                     NaN\n",
            "2     HEMAVATHI.R   100.0  100.0              19680           19680        Computer Science and Engineering       0        NaN                     NaN\n",
            "84  ASHOK KUMAR K   100.0   31.0              19400           19400  Electronics and Electrical Engineering       0        0.0                     9.0\n"
          ]
        }
      ],
      "source": [
        "Exceeded_expectations=df[df[\"CodeKata Score\"]>=15000]\n",
        "Exceeded_expectations.to_csv(\"Exceeded expectations.csv\")\n",
        "print(Exceeded_expectations.to_string())"
      ]
    },
    {
      "cell_type": "code",
      "execution_count": 5,
      "metadata": {
        "id": "-Ko4J1Jo5tt2",
        "outputId": "90dfee45-af16-4540-adf4-91bc13479c49",
        "colab": {
          "base_uri": "https://localhost:8080/"
        }
      },
      "outputs": [
        {
          "output_type": "stream",
          "name": "stdout",
          "text": [
            "                 Name  python  mysql  Previous Geekions  CodeKata Score                                 Department  Rising  python_en  computational_thinking\n",
            "3         Mugunthan S   100.0   47.0              10610           10610           Computer Science and Engineering       0        NaN                     NaN\n",
            "85            Chandru     0.0    0.0              14150           14490           Computer Science and Engineering     340       20.0                     0.0\n",
            "86  Ganesh Ramkumar R    -1.0   24.0               8790           10790           Computer Science and Engineering    2000       55.0                     6.0\n",
            "87    Bodipudi Harini    -1.0   35.0              10040           10040  Electronics and Communication Engineering       0        0.0                    -1.0\n"
          ]
        }
      ],
      "source": [
        "Reached_expectations = df[(df[\"CodeKata Score\"]>=10000)&(df[\"CodeKata Score\"]<15000)]\n",
        "Reached_expectations.to_csv(\"Reached_expectations.csv\")\n",
        "print(Reached_expectations.to_string())"
      ]
    },
    {
      "cell_type": "code",
      "source": [
        "Needs_Improvement = df[(df[\"CodeKata Score\"]>=7000)&(df[\"CodeKata Score\"]<10000)]\n",
        "Needs_Improvement.to_csv(\"Needs_Improvement.csv\")\n",
        "print(Needs_Improvement.to_string())"
      ],
      "metadata": {
        "id": "ujJwcgf8_0mw",
        "outputId": "2effeb9a-7403-40aa-a626-f2d3b3fe2d6f",
        "colab": {
          "base_uri": "https://localhost:8080/"
        }
      },
      "execution_count": 6,
      "outputs": [
        {
          "output_type": "stream",
          "name": "stdout",
          "text": [
            "                       Name  python  mysql  Previous Geekions  CodeKata Score                                 Department  Rising  python_en  computational_thinking\n",
            "4               Sathammai.S   100.0    8.0               8980            8980           Computer Science and Engineering       0        NaN                     NaN\n",
            "5              NIVEESHWAR S   100.0    0.0               8200            8200           Computer Science and Engineering       0        NaN                     NaN\n",
            "6             KALAIARASAN K    85.0   47.0               7750            7880  Electronics and Communication Engineering     130        NaN                     NaN\n",
            "7      MOHAMED ZUBAIR AHMED    82.0    4.0               7020            7020           Computer Science and Engineering       0        NaN                     NaN\n",
            "88                VIINU V P    -1.0   24.0               9150            9150     Electronics and Electrical Engineering       0      100.0                    -1.0\n",
            "89               Poojitha Y     0.0   35.0               7210            8970           Computer Science and Engineering    1760       78.0                     0.0\n",
            "90   Gowtham Chandrasekaran    -1.0    0.0               7250            8950           Computer Science and Engineering    1700        0.0                     3.0\n",
            "91                Gowtham R    -1.0    4.0               8650            8650  Electronics and Communication Engineering       0       60.0                     6.0\n",
            "92                 shifak N    58.0    0.0               5180            8320     Electronics and Electrical Engineering    3140        0.0                     0.0\n",
            "93                  Balaji     -1.0   20.0               6170            8160     Electronics and Electrical Engineering    1990      100.0                     0.0\n",
            "94                 Rushitha    -1.0   62.0               7470            8090           Computer Science and Engineering     620       15.0                     9.0\n",
            "95     Balaraman Muthupandi    -1.0    0.0               7670            8050           Computer Science and Engineering     380        9.0                     0.0\n",
            "96                 JPradhap   100.0    0.0               7340            8030     Electronics and Electrical Engineering     690        0.0                     0.0\n",
            "97            SRIRAMKUMAR B    -1.0    0.0               6400            7940           Computer Science and Engineering    1540        0.0                     0.0\n",
            "98                Praneetha    -1.0  100.0               7170            7730  Electronics and Communication Engineering     560       23.0                    -1.0\n",
            "99              Rahul Raj K    -1.0    0.0               6280            7640           Computer Science and Engineering    1360        0.0                     0.0\n",
            "100                 Guhan S    -1.0   35.0               7310            7630  Electronics and Communication Engineering     320       72.0                    39.0\n",
            "101            Suryarajan S    -1.0   31.0               6710            7550           Computer Science and Engineering     840       63.0                     0.0\n"
          ]
        }
      ]
    },
    {
      "cell_type": "code",
      "source": [
        "Unsatisfactory = df[(df[\"CodeKata Score\"]<7000)]\n",
        "Unsatisfactory.to_csv(\"Unsatisfactory.csv\")\n",
        "print(Unsatisfactory.to_string())"
      ],
      "metadata": {
        "id": "32OqocYH__4k",
        "outputId": "d15226bc-0481-4a74-bd74-dedc8c43648a",
        "colab": {
          "base_uri": "https://localhost:8080/"
        }
      },
      "execution_count": 7,
      "outputs": [
        {
          "output_type": "stream",
          "name": "stdout",
          "text": [
            "                           Name  python   mysql  Previous Geekions  CodeKata Score                                 Department  Rising  python_en  computational_thinking\n",
            "8                    J.SUGANTHI    27.0   50.00               5860            5860  Electronics and Communication Engineering       0        NaN                     NaN\n",
            "9                  thamizhpaana    29.0    0.00               5500            5500           Computer Science and Engineering       0        NaN                     NaN\n",
            "10              Iyappan Samiraj    50.0   24.00               5400            5400  Electronics and Communication Engineering       0        NaN                     NaN\n",
            "11                 Ponniyamma.R   100.0   11.25               5380            5380           Computer Science and Engineering       0        NaN                     NaN\n",
            "12                    SABAPATHI   100.0    0.00               5280            5280           Computer Science and Engineering       0        NaN                     NaN\n",
            "13                     RAGHAVAN   100.0    0.00               5120            5120           Computer Science and Engineering       0        NaN                     NaN\n",
            "14              Melvin Dukles.R    56.0   20.00               4800            4800  Electronics and Communication Engineering       0        NaN                     NaN\n",
            "15                     Pavithra   100.0  100.00               4600            4600           Computer Science and Engineering       0        NaN                     NaN\n",
            "16                  PRIYANKA .S    85.0    4.00               4510            4510           Computer Science and Engineering       0        NaN                     NaN\n",
            "17                  v.vithyasri   100.0   12.00               4370            4370  Electronics and Communication Engineering       0        NaN                     NaN\n",
            "18           Abirami Anbazhagan   100.0    0.00               4320            4320  Electronics and Communication Engineering       0        NaN                     NaN\n",
            "19                 S.srinivasan   100.0   12.00               4090            4090           Computer Science and Engineering       0        NaN                     NaN\n",
            "20                     s.janani   100.0    0.00               3915            3915           Computer Science and Engineering       0        NaN                     NaN\n",
            "21                 kamalishwari    32.0   20.00               3665            3665  Electronics and Communication Engineering       0        NaN                     NaN\n",
            "22                      Yuvasri   100.0  100.00               3460            3460           Computer Science and Engineering       0        NaN                     NaN\n",
            "23                       balaji    82.0    0.00               3280            3280           Computer Science and Engineering       0        NaN                     NaN\n",
            "24                      MEERA.M   100.0  100.00               3200            3200           Computer Science and Engineering       0        NaN                     NaN\n",
            "25                    Tpavithra   100.0   24.00               3200            3200  Electronics and Communication Engineering       0        NaN                     NaN\n",
            "26                sri dharshini   100.0  100.00               3110            3110           Computer Science and Engineering       0        NaN                     NaN\n",
            "27                     shankari    87.5   20.00               3000            3000  Electronics and Communication Engineering       0        NaN                     NaN\n",
            "28                pooja priya.B   100.0  100.00               2570            2570           Computer Science and Engineering       0        NaN                     NaN\n",
            "29                      chithra   100.0    0.00               2410            2410           Computer Science and Engineering       0        NaN                     NaN\n",
            "30                   manikandan   100.0    0.00               2360            2360           Computer Science and Engineering       0        NaN                     NaN\n",
            "31               Kaliaperumal G   100.0    0.00               2260            2260           Computer Science and Engineering       0        NaN                     NaN\n",
            "32                   SarumathiR    16.0   35.00               2240            2240  Electronics and Communication Engineering       0        NaN                     NaN\n",
            "33                    SOWMIYA.V    85.0    0.00               2160            2160           Computer Science and Engineering       0        NaN                     NaN\n",
            "34                   tamilarasi   100.0  100.00               1910            1910           Computer Science and Engineering       0        NaN                     NaN\n",
            "35                     Barath D    74.0    4.00               1910            1910  Electronics and Communication Engineering       0        NaN                     NaN\n",
            "36                   selvakumar   100.0    0.00               1900            1900           Computer Science and Engineering       0        NaN                     NaN\n",
            "37                    nivedha.s   100.0   77.00               1880            1880           Computer Science and Engineering       0        NaN                     NaN\n",
            "38                      Stephen   100.0    0.00               1880            1880           Computer Science and Engineering       0        NaN                     NaN\n",
            "39                      vignesh    85.0    0.00               1740            1740  Electronics and Communication Engineering       0        NaN                     NaN\n",
            "40                   HSharukhan   100.0    0.00               1680            1680           Computer Science and Engineering       0        NaN                     NaN\n",
            "41                  vijayakumar   100.0    0.00               1580            1580           Computer Science and Engineering       0        NaN                     NaN\n",
            "42                    ABIRAMI.S    82.0    0.00               1580            1580  Electronics and Communication Engineering       0        NaN                     NaN\n",
            "43                   v.gowsalya    53.0   50.00               1440            1440  Electronics and Communication Engineering       0        NaN                     NaN\n",
            "44                      ponni.p    93.0  100.00               1350            1350           Computer Science and Engineering       0        NaN                     NaN\n",
            "45                   PRAVEENA K   100.0  100.00               1320            1320           Computer Science and Engineering       0        NaN                     NaN\n",
            "46   siva sai perumal polisetti   100.0   12.00               1240            1240  Electronics and Communication Engineering       0        NaN                     NaN\n",
            "47                  MadhumathiB    16.0   35.00               1130            1130  Electronics and Communication Engineering       0        NaN                     NaN\n",
            "48                    b.akshaya    82.0    0.00               1100            1100           Computer Science and Engineering       0        NaN                     NaN\n",
            "49                     bavithra     0.0  100.00               1020            1020  Electronics and Communication Engineering       0        NaN                     NaN\n",
            "50                    Deivani.S     0.0   86.25                980             980  Electronics and Communication Engineering       0        NaN                     NaN\n",
            "51                    Nivetha.S     0.0   50.00                950             950  Electronics and Communication Engineering       0        NaN                     NaN\n",
            "52                  GUNAMATHI.S     0.0   77.00                850             850  Electronics and Communication Engineering       0        NaN                     NaN\n",
            "53                    RANJITH.R   100.0    0.00                800             800  Electronics and Communication Engineering       0        NaN                     NaN\n",
            "54                     u.abarna     3.0   39.00                770             770  Electronics and Communication Engineering       0        NaN                     NaN\n",
            "55                 kaviyarasi.k    16.0   28.75                760             760  Electronics and Communication Engineering       0        NaN                     NaN\n",
            "56                      pravina   100.0  100.00                720             720           Computer Science and Engineering       0        NaN                     NaN\n",
            "57                      M.PRIYA    43.0   24.00                690             690  Electronics and Communication Engineering       0        NaN                     NaN\n",
            "58                 M.Nisha@mary    11.0   20.00                580             580  Electronics and Communication Engineering       0        NaN                     NaN\n",
            "59                     Thivviya    82.0    8.00                490             490           Computer Science and Engineering       0        NaN                     NaN\n",
            "60                 muvendiran.m   100.0    7.50                410             410  Electronics and Communication Engineering       0        NaN                     NaN\n",
            "61                      Aravind   100.0    0.00                380             380           Computer Science and Engineering       0        NaN                     NaN\n",
            "62                      Haasini   100.0    0.00                300             300           Computer Science and Engineering       0        NaN                     NaN\n",
            "63                     E.Nalini     3.0    0.00                270             270  Electronics and Communication Engineering       0        NaN                     NaN\n",
            "64                   k.parvathi   100.0  100.00                260             260     Electronics and Electrical Engineering       0        NaN                     NaN\n",
            "65                   jayapratha    82.0    0.00                200             200           Computer Science and Engineering       0        NaN                     NaN\n",
            "66               Evanasundari.K    61.0    0.00                180             180           Computer Science and Engineering       0        NaN                     NaN\n",
            "67                     gousalya    56.0   27.00                170             170  Electronics and Communication Engineering       0        NaN                     NaN\n",
            "68                  sivaranjini     0.0    3.75                160             160  Electronics and Communication Engineering       0        NaN                     NaN\n",
            "69                   karthika.G   100.0    0.00                120             120           Computer Science and Engineering       0        NaN                     NaN\n",
            "70                    vignesh B    82.0   20.00                120             120  Electronics and Communication Engineering       0        NaN                     NaN\n",
            "71                  m.keerthana    97.5    0.00                120             120     Electronics and Electrical Engineering       0        NaN                     NaN\n",
            "72                   Subhashini   100.0    4.00                120             120     Electronics and Electrical Engineering       0        NaN                     NaN\n",
            "73               rajesh kumar.r    30.0    0.00                100             100  Electronics and Communication Engineering       0        NaN                     NaN\n",
            "74              J.Bhuvaneshwari   100.0   20.00                100             100     Electronics and Electrical Engineering       0        NaN                     NaN\n",
            "75                     santhosh    82.0   12.00                 60              60     Electronics and Electrical Engineering       0        NaN                     NaN\n",
            "76                         Arun    95.0    4.00                 40              40           Computer Science and Engineering       0        NaN                     NaN\n",
            "77                   J.JAYANTHI   100.0  100.00                 40              40     Electronics and Electrical Engineering       0        NaN                     NaN\n",
            "78                 vikneshwaran   100.0    4.00                 40              40     Electronics and Electrical Engineering       0        NaN                     NaN\n",
            "79                 KarthikeyanS    45.0    0.00                  0               0     Electronics and Electrical Engineering       0        NaN                     NaN\n",
            "80                     BARATH.P    29.0    0.00                  0               0     Electronics and Electrical Engineering       0        NaN                     NaN\n",
            "81                N.Ajith kumar    82.0    0.00                  0               0     Electronics and Electrical Engineering       0        NaN                     NaN\n",
            "82                 mohamed nabi     0.0    0.00                  0               0     Electronics and Electrical Engineering       0        NaN                     NaN\n",
            "83               yaser ahamed.A     0.0   27.00                  0               0     Electronics and Electrical Engineering       0        NaN                     NaN\n",
            "102              Narasimhan Y L    -1.0    0.00               4800            6800           Computer Science and Engineering    2000       -1.0                     0.0\n",
            "103                Leelakrishna    -1.0    4.00               5300            6640           Computer Science and Engineering    1340        6.0                     0.0\n",
            "104              PremsagarReddy    -1.0    0.00               5290            6290           Computer Science and Engineering    1000       20.0                     0.0\n",
            "105                   pradeeban    16.0   24.00               6060            6090           Computer Science and Engineering      30       20.0                     0.0\n",
            "106                 santhoshini    -1.0    0.00               3910            5740           Computer Science and Engineering    1830       43.0                     0.0\n",
            "107                  MUKESH S M    -1.0    0.00               5200            5200           Computer Science and Engineering       0       46.0                     0.0\n",
            "108               P.GOVARDHANAN    -1.0    0.00               5050            5050  Electronics and Communication Engineering       0       40.0                    -1.0\n",
            "109                SHAIK DANISH    -1.0    0.00               4050            4820           Computer Science and Engineering     770       43.0                     0.0\n",
            "110                   sridhar.s    -1.0    0.00               3860            4440           Computer Science and Engineering     580       52.0                     0.0\n",
            "111           Vimalesh Fernando    -1.0    0.00               4170            4170           Computer Science and Engineering       0        0.0                     0.0\n",
            "112               M.Karthikeyan    -1.0    4.00               4020            4020           Computer Science and Engineering       0        0.0                     6.0\n",
            "113                   Abishak s    -1.0   35.00               3220            3220  Electronics and Communication Engineering       0       55.0                     6.0\n",
            "114               praveen raj j    24.0    0.00               2380            2380           Computer Science and Engineering       0       -1.0                     0.0\n",
            "115                  AMARNATH D    -1.0   12.00               1890            1890  Electronics and Communication Engineering       0       52.0                    -1.0\n",
            "116                        bala    32.0    0.00               1720            1720  Electronics and Communication Engineering       0       49.0                    -1.0\n",
            "117                        XY Z    -1.0   -1.00                  0               0           Computer Science and Engineering       0       20.0                    -1.0\n",
            "118                   Hariharan    -1.0   -1.00                  0               0           Computer Science and Engineering       0       -1.0                     0.0\n"
          ]
        }
      ]
    },
    {
      "cell_type": "markdown",
      "metadata": {
        "id": "ZAF6jPUe5tt3"
      },
      "source": [
        "###### Average of previous week geekions vs this week geekions (i.e Previous Geekions vs CodeKata Score)"
      ]
    },
    {
      "cell_type": "code",
      "execution_count": 8,
      "metadata": {
        "id": "wlyo7onw5tt4",
        "outputId": "a1cd9fb4-0c0b-478c-fb5e-0ed4b7c35eed",
        "colab": {
          "base_uri": "https://localhost:8080/"
        }
      },
      "outputs": [
        {
          "output_type": "stream",
          "name": "stdout",
          "text": [
            "Previous Geekions    3842.352941\n",
            "CodeKata Score       4051.764706\n",
            "dtype: float64\n"
          ]
        }
      ],
      "source": [
        "print(df[[\"Previous Geekions\",\"CodeKata Score\"]].mean())"
      ]
    },
    {
      "cell_type": "markdown",
      "metadata": {
        "id": "wGr_iUzH5tt4"
      },
      "source": [
        "###### No of students participated "
      ]
    },
    {
      "cell_type": "code",
      "execution_count": 9,
      "metadata": {
        "id": "FT2yOqFX5tt5",
        "outputId": "7b1a62ed-9ef5-434a-ecee-9eb434e409d7",
        "colab": {
          "base_uri": "https://localhost:8080/"
        }
      },
      "outputs": [
        {
          "output_type": "stream",
          "name": "stdout",
          "text": [
            "Total no of students Participated :   119\n"
          ]
        }
      ],
      "source": [
        "No_of_Participation = len(df[\"Name\"])\n",
        "print(f\"Total no of students Participated :   {No_of_Participation}\")"
      ]
    },
    {
      "cell_type": "markdown",
      "metadata": {
        "id": "LDP_XsdL5tt6"
      },
      "source": [
        "###### #Average completion of python course or my_sql or python english or computational thinking"
      ]
    },
    {
      "cell_type": "code",
      "execution_count": 10,
      "metadata": {
        "id": "X5dlXpa-5tt7",
        "outputId": "4957329e-420d-481c-ca5b-c84db13bc78e",
        "colab": {
          "base_uri": "https://localhost:8080/"
        }
      },
      "outputs": [
        {
          "output_type": "stream",
          "name": "stdout",
          "text": [
            "The average Completion of SQL is :  23.5\n",
            "The average Completion of Python is :  54.35294117647059\n",
            "The average Completion of Python English is :  29.65714285714286\n",
            "The average Completion of computational_thinking is :  2.2\n"
          ]
        }
      ],
      "source": [
        "avg = pd.read_csv(\"college_data.csv\")\n",
        "PY = avg[\"python\"].mean()\n",
        "SQL = avg[\"mysql\"].mean()\n",
        "PY_EN = avg[\"python_en\"].mean()\n",
        "CT = avg[\"computational_thinking\"].mean()\n",
        "print(f\"The average Completion of SQL is :  {SQL}\")\n",
        "print(f\"The average Completion of Python is :  {PY}\")\n",
        "print(f\"The average Completion of Python English is :  {PY_EN}\")\n",
        "print(f\"The average Completion of computational_thinking is :  {CT}\")\n"
      ]
    },
    {
      "cell_type": "markdown",
      "metadata": {
        "id": "MURJJGNx5tt8"
      },
      "source": [
        "###### rising star of the week (top 3 candidate who performed well in that particular week)"
      ]
    },
    {
      "cell_type": "code",
      "execution_count": 11,
      "metadata": {
        "id": "RlNAE59v5tt8",
        "outputId": "d3f8179f-ba56-4b7d-e8af-ca79b2028817",
        "colab": {
          "base_uri": "https://localhost:8080/"
        }
      },
      "outputs": [
        {
          "output_type": "stream",
          "name": "stdout",
          "text": [
            "     Unnamed: 0               Name  python  mysql  Previous Geekions  CodeKata Score                              Department  Rising  python_en  computational_thinking\n",
            "86           86  Ganesh Ramkumar R    -1.0   24.0               8790           10790        Computer Science and Engineering    2000       55.0                     6.0\n",
            "102         102     Narasimhan Y L    -1.0    0.0               4800            6800        Computer Science and Engineering    2000       -1.0                     0.0\n",
            "92           92           shifak N    58.0    0.0               5180            8320  Electronics and Electrical Engineering    3140        0.0                     0.0\n"
          ]
        }
      ],
      "source": [
        "Raising_stars = pd.read_csv(\"college_data.csv\")\n",
        "Raising_stars.sort_values([\"Rising\"],inplace=True)\n",
        "print(Raising_stars.tail(3).to_string())"
      ]
    },
    {
      "cell_type": "markdown",
      "metadata": {
        "id": "7UgnqlHg5tt9"
      },
      "source": [
        "###### Shining stars of the week (top 3 candidates who has highest geekions)"
      ]
    },
    {
      "cell_type": "code",
      "execution_count": 12,
      "metadata": {
        "id": "w475efh65tt-",
        "outputId": "05557106-9a47-4dd8-ad48-98df75f23ddd",
        "colab": {
          "base_uri": "https://localhost:8080/"
        }
      },
      "outputs": [
        {
          "output_type": "stream",
          "name": "stdout",
          "text": [
            "   Unnamed: 0         Name  python  mysql  Previous Geekions  CodeKata Score                        Department  Rising  python_en  computational_thinking\n",
            "0           0    A.Dharani    82.0   20.0              24500           24500  Computer Science and Engineering       0        NaN                     NaN\n",
            "1           1  V.JEEVITHA     82.0   20.0              21740           21740  Computer Science and Engineering       0        NaN                     NaN\n",
            "2           2  HEMAVATHI.R   100.0  100.0              19680           19680  Computer Science and Engineering       0        NaN                     NaN\n"
          ]
        }
      ],
      "source": [
        "Shining_stars = pd.read_csv(\"college_data.csv\")\n",
        "Shining_stars.sort_values([\"Previous Geekions\"],ascending = False,inplace=True)\n",
        "print(Shining_stars.head(3).to_string())"
      ]
    },
    {
      "cell_type": "markdown",
      "metadata": {
        "id": "L9azSMZu5tt_"
      },
      "source": [
        "###### Department wise codekata performence (pie chart)"
      ]
    },
    {
      "cell_type": "code",
      "execution_count": 14,
      "metadata": {
        "id": "y4jJFvXR5tuA",
        "outputId": "fabcbf46-e524-41d3-aaaf-d88adabc7614",
        "colab": {
          "base_uri": "https://localhost:8080/",
          "height": 295
        }
      },
      "outputs": [
        {
          "output_type": "display_data",
          "data": {
            "text/plain": [
              "<Figure size 560x350 with 1 Axes>"
            ],
            "image/png": "[encoded data removed]"
          },
          "metadata": {}
        }
      ],
      "source": [
        "df = pd.read_csv(\"college_data.csv\")\n",
        "df1=df[\"Department\"].unique()\n",
        "CS = df[df[\"Department\"]==\"Computer Science and Engineering\"]\n",
        "\n",
        "ECE = df[df[\"Department\"]==\"Electronics and Communication Engineering\"]\n",
        "\n",
        "EEE = df[df[\"Department\"]==\"Electronics and Electrical Engineering\"]\n",
        "\n",
        "CS_avg = CS[\"CodeKata Score\"].mean()\n",
        "ECE_avg = ECE[\"CodeKata Score\"].mean()\n",
        "EEE_avg = EEE[\"CodeKata Score\"].mean()\n",
        "\n",
        "x = [CS_avg, ECE_avg, EEE_avg]\n",
        "plt.figure(figsize=(8,5), dpi=70)\n",
        "plt.pie(x,labels=df1,autopct=\"%0.1f%%\")\n",
        "plt.show()"
      ]
    },
    {
      "cell_type": "markdown",
      "metadata": {
        "id": "L6dNIIDh5tuB"
      },
      "source": [
        "###### Department wise toppers (horizantal bar graph or any visual representations of your choice)"
      ]
    },
    {
      "cell_type": "code",
      "execution_count": 22,
      "metadata": {
        "id": "kQQtzcxx5tuC",
        "outputId": "791553d9-6104-4571-dbbf-d933956b7cd9",
        "colab": {
          "base_uri": "https://localhost:8080/",
          "height": 538
        }
      },
      "outputs": [
        {
          "output_type": "stream",
          "name": "stderr",
          "text": [
            "/usr/local/lib/python3.7/dist-packages/pandas/util/_decorators.py:311: SettingWithCopyWarning: \n",
            "A value is trying to be set on a copy of a slice from a DataFrame\n",
            "\n",
            "See the caveats in the documentation: https://pandas.pydata.org/pandas-docs/stable/user_guide/indexing.html#returning-a-view-versus-a-copy\n",
            "  return func(*args, **kwargs)\n"
          ]
        },
        {
          "output_type": "stream",
          "name": "stdout",
          "text": [
            "    Unnamed: 0               Name  python  mysql  Previous Geekions  CodeKata Score                        Department  Rising  python_en  computational_thinking\n",
            "0            0          A.Dharani    82.0   20.0              24500           24500  Computer Science and Engineering       0        NaN                     NaN\n",
            "1            1        V.JEEVITHA     82.0   20.0              21740           21740  Computer Science and Engineering       0        NaN                     NaN\n",
            "2            2        HEMAVATHI.R   100.0  100.0              19680           19680  Computer Science and Engineering       0        NaN                     NaN\n",
            "85          85            Chandru     0.0    0.0              14150           14490  Computer Science and Engineering     340       20.0                     0.0\n",
            "86          86  Ganesh Ramkumar R    -1.0   24.0               8790           10790  Computer Science and Engineering    2000       55.0                     6.0\n"
          ]
        },
        {
          "output_type": "display_data",
          "data": {
            "text/plain": [
              "<Figure size 560x350 with 1 Axes>"
            ],
            "image/png": "[encoded data removed]"
          },
          "metadata": {
            "needs_background": "light"
          }
        }
      ],
      "source": [
        "df = pd.read_csv(\"college_data.csv\")\n",
        "CS = df[df[\"Department\"]==\"Computer Science and Engineering\"]\n",
        "CS.sort_values([\"CodeKata Score\"],ascending = False,inplace=True)\n",
        "print(CS.head(5).to_string())\n",
        "X = CS[\"Name\"].head(5)\n",
        "Y = CS[\"CodeKata Score\"].head(5)\n",
        "plt.figure(figsize=(8,5), dpi=70)\n",
        "plt.bar(X,Y)\n",
        "plt.title(\"Computer Science and Engineering\")\n",
        "plt.show()"
      ]
    },
    {
      "cell_type": "code",
      "execution_count": 19,
      "metadata": {
        "id": "ohGLBkA45tuE",
        "outputId": "fa936397-1ecd-4cc4-ece2-12381df5d47f",
        "colab": {
          "base_uri": "https://localhost:8080/",
          "height": 538
        }
      },
      "outputs": [
        {
          "output_type": "stream",
          "name": "stdout",
          "text": [
            "     Unnamed: 0             Name  python  mysql  Previous Geekions  CodeKata Score                                 Department  Rising  python_en  computational_thinking\n",
            "87           87  Bodipudi Harini    -1.0   35.0              10040           10040  Electronics and Communication Engineering       0        0.0                    -1.0\n",
            "91           91        Gowtham R    -1.0    4.0               8650            8650  Electronics and Communication Engineering       0       60.0                     6.0\n",
            "6             6    KALAIARASAN K    85.0   47.0               7750            7880  Electronics and Communication Engineering     130        NaN                     NaN\n",
            "98           98        Praneetha    -1.0  100.0               7170            7730  Electronics and Communication Engineering     560       23.0                    -1.0\n",
            "100         100          Guhan S    -1.0   35.0               7310            7630  Electronics and Communication Engineering     320       72.0                    39.0\n"
          ]
        },
        {
          "output_type": "stream",
          "name": "stderr",
          "text": [
            "/usr/local/lib/python3.7/dist-packages/pandas/util/_decorators.py:311: SettingWithCopyWarning: \n",
            "A value is trying to be set on a copy of a slice from a DataFrame\n",
            "\n",
            "See the caveats in the documentation: https://pandas.pydata.org/pandas-docs/stable/user_guide/indexing.html#returning-a-view-versus-a-copy\n",
            "  return func(*args, **kwargs)\n"
          ]
        },
        {
          "output_type": "display_data",
          "data": {
            "text/plain": [
              "<Figure size 560x350 with 1 Axes>"
            ],
            "image/png": "[encoded data removed]"
          },
          "metadata": {
            "needs_background": "light"
          }
        }
      ],
      "source": [
        "ECE = df[df[\"Department\"]==\"Electronics and Communication Engineering\"]\n",
        "ECE.sort_values([\"CodeKata Score\"],ascending = False,inplace=True)\n",
        "print(ECE.head(5).to_string())\n",
        "X = ECE[\"Name\"].head(5)\n",
        "Y = ECE[\"CodeKata Score\"].head(5)\n",
        "plt.figure(figsize=(8,5), dpi=70)\n",
        "plt.bar(X,Y)\n",
        "plt.title(\"Electronics and Communication Engineering\")\n",
        "plt.show()"
      ]
    },
    {
      "cell_type": "code",
      "execution_count": 18,
      "metadata": {
        "id": "wAE-lEuY5tuG",
        "outputId": "6cc3d6c8-0325-45c5-e458-db066f72c500",
        "colab": {
          "base_uri": "https://localhost:8080/",
          "height": 538
        }
      },
      "outputs": [
        {
          "output_type": "stream",
          "name": "stdout",
          "text": [
            "    Unnamed: 0           Name  python  mysql  Previous Geekions  CodeKata Score                              Department  Rising  python_en  computational_thinking\n",
            "84          84  ASHOK KUMAR K   100.0   31.0              19400           19400  Electronics and Electrical Engineering       0        0.0                     9.0\n",
            "88          88      VIINU V P    -1.0   24.0               9150            9150  Electronics and Electrical Engineering       0      100.0                    -1.0\n",
            "92          92       shifak N    58.0    0.0               5180            8320  Electronics and Electrical Engineering    3140        0.0                     0.0\n",
            "93          93        Balaji     -1.0   20.0               6170            8160  Electronics and Electrical Engineering    1990      100.0                     0.0\n",
            "96          96       JPradhap   100.0    0.0               7340            8030  Electronics and Electrical Engineering     690        0.0                     0.0\n"
          ]
        },
        {
          "output_type": "stream",
          "name": "stderr",
          "text": [
            "/usr/local/lib/python3.7/dist-packages/pandas/util/_decorators.py:311: SettingWithCopyWarning: \n",
            "A value is trying to be set on a copy of a slice from a DataFrame\n",
            "\n",
            "See the caveats in the documentation: https://pandas.pydata.org/pandas-docs/stable/user_guide/indexing.html#returning-a-view-versus-a-copy\n",
            "  return func(*args, **kwargs)\n"
          ]
        },
        {
          "output_type": "display_data",
          "data": {
            "text/plain": [
              "<Figure size 560x350 with 1 Axes>"
            ],
            "image/png": "[encoded data removed]"
          },
          "metadata": {
            "needs_background": "light"
          }
        }
      ],
      "source": [
        "EEE = df[df[\"Department\"]==\"Electronics and Electrical Engineering\"]\n",
        "EEE.sort_values([\"CodeKata Score\"],ascending = False,inplace=True)\n",
        "print(EEE.head(5).to_string())\n",
        "X = EEE[\"Name\"].head(5)\n",
        "Y = EEE[\"CodeKata Score\"].head(5)\n",
        "plt.figure(figsize=(8,5), dpi=70)\n",
        "plt.bar(X,Y)\n",
        "plt.title(\"Electronics and Electrical Engineering\")\n",
        "plt.show()"
      ]
    }
  ],
  "metadata": {
    "kernelspec": {
      "display_name": "Python 3",
      "language": "python",
      "name": "python3"
    },
    "language_info": {
      "codemirror_mode": {
        "name": "ipython",
        "version": 3
      },
      "file_extension": ".py",
      "mimetype": "text/x-python",
      "name": "python",
      "nbconvert_exporter": "python",
      "pygments_lexer": "ipython3",
      "version": "3.8.3"
    },
    "colab": {
      "provenance": [],
      "include_colab_link": true
    }
  },
  "nbformat": 4,
  "nbformat_minor": 0
}